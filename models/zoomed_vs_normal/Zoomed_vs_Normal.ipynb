{
 "cells": [
  {
   "cell_type": "markdown",
   "metadata": {},
   "source": [
    "# Image classification model using CNN and keras \n",
    "\n",
    "- Predicts whether an image is a zoomed or a normal image. \n",
    "- This model was used to remove the zoomed images from our **_Atlas_** dataset.\n",
    "\n",
    "## 1. Setup\n",
    "\n",
    "### 1.1 Install the necessary packages\n",
    "\n",
    "- Create virtual environment \n",
    "    - conda create --name atlas python=3.6\n",
    "- Install the required packages\n",
    "    - pip install tensorflow==1.5\n",
    "    - pip install keras --upgrade\n",
    "    - pip install scikit-learn\n",
    "    - pip install pandas\n",
    "    - pip install ipykernel\n",
    "    - sudo env PATH=$PATH python -m ipykernel install --name atlas\n",
    "\n",
    "### 1.2 Import packages and libraries"
   ]
  },
  {
   "cell_type": "code",
   "execution_count": 12,
   "metadata": {
    "collapsed": true
   },
   "outputs": [],
   "source": [
    "import os\n",
    "os.environ['KERAS_BACKEND'] = 'tensorflow'\n",
    "from zoomed_vs_normal import *"
   ]
  },
  {
   "cell_type": "markdown",
   "metadata": {},
   "source": [
    "## 2. Extract the Dataset\n",
    "\n",
    "We provide a JSON file,  *`zvsn_data.json`*  located in  *`Atlas/dataset/`*  directory which has the URL's of the images and their labels. \n",
    "\n",
    "A sample record from the JSON shown below:\n",
    "\n",
    "```\n",
    "{'filename': 'af9882e41bb9eb964a32815bc1f5085778a4d7e2.jpg', \n",
    "'image_url': 'http://rukmini1.flixcart.com/image/300/300/jepzrm80/shirt/2/t/v/xl-spidershirt-2-tribewear-original-imaf3bvnte6fvv5y.jpeg?q=100', \n",
    "'label': 'zoomed', \n",
    "'title': \"Tribewear Men's Geometric Print Casual White Shirt\"}\n",
    "```\n",
    "\n",
    "Switch to the `Atlas/dataset/` directory and run the script to extract the images\n",
    "\n",
    "```\n",
    "cd ../../dataset\n",
    "python create_dataset.py -m zvsn\n",
    "```\n",
    "\n",
    "The images will be downloaded and present in the `Atlas/dataset/` directory"
   ]
  },
  {
   "cell_type": "markdown",
   "metadata": {},
   "source": [
    "## 3. Classification Model - Zoomed VS Normal\n",
    "\n",
    "### 3.1 Create the dataset\n",
    "\n",
    "Reading images from folder and preparing the dataset"
   ]
  },
  {
   "cell_type": "code",
   "execution_count": 4,
   "metadata": {},
   "outputs": [
    {
     "name": "stdout",
     "output_type": "stream",
     "text": [
      "Getting the images from the data folder\n",
      "2 classes were found:['Normal' 'Zoomed']\n",
      "Total number of images in the dataset: 8824\n",
      "Dimensions of images in the dataset: (150, 150, 3)\n"
     ]
    },
    {
     "data": {
      "text/plain": [
       "(1, 150, 150, 3)"
      ]
     },
     "execution_count": 4,
     "metadata": {},
     "output_type": "execute_result"
    }
   ],
   "source": [
    "img_width, img_height = 150, 150\n",
    "X,y = prepare_data(\"../../dataset/Normal_vs_Zoomed\", 150, 150)\n",
    "X[:1].shape"
   ]
  },
  {
   "cell_type": "markdown",
   "metadata": {},
   "source": [
    "### 3.2 Split the dataset into train, test and validation sets"
   ]
  },
  {
   "cell_type": "code",
   "execution_count": 5,
   "metadata": {},
   "outputs": [
    {
     "name": "stdout",
     "output_type": "stream",
     "text": [
      "Train set size: 7059, Val set size: 883, Test set size: 882\n"
     ]
    }
   ],
   "source": [
    "from sklearn.model_selection import train_test_split\n",
    "\n",
    "#Splitting \n",
    "X_train, X_test, y_train, y_test = train_test_split(X, y, test_size=0.2, random_state=33)\n",
    "X_test, X_val, y_test, y_val = train_test_split(X_test, y_test, test_size=0.5, random_state=33)\n",
    "print(\"Train set size: {0}, Val set size: {1}, Test set size: {2}\".format(len(X_train), len(X_val), len(X_test)))"
   ]
  },
  {
   "cell_type": "markdown",
   "metadata": {},
   "source": [
    "### 3.3 Image Preprocessing"
   ]
  },
  {
   "cell_type": "code",
   "execution_count": 6,
   "metadata": {
    "collapsed": true
   },
   "outputs": [],
   "source": [
    "from keras.preprocessing.image import ImageDataGenerator\n",
    "datagen = ImageDataGenerator(\n",
    "    featurewise_center=True,\n",
    "    featurewise_std_normalization=True,\n",
    "    rotation_range=10,\n",
    "    width_shift_range=0.2,\n",
    "    height_shift_range=0.2,\n",
    "    horizontal_flip=True)"
   ]
  },
  {
   "cell_type": "code",
   "execution_count": 7,
   "metadata": {
    "collapsed": true
   },
   "outputs": [],
   "source": [
    "datagen.fit(X_train)"
   ]
  },
  {
   "cell_type": "markdown",
   "metadata": {},
   "source": [
    "### 3.4 Creating a preview folder to view preprocessed images "
   ]
  },
  {
   "cell_type": "code",
   "execution_count": 9,
   "metadata": {},
   "outputs": [
    {
     "name": "stdout",
     "output_type": "stream",
     "text": [
      "test_0_2624.jpeg  test_0_6979.jpeg  test_0_7405.jpeg\r\n",
      "test_0_4847.jpeg  test_0_7175.jpeg  test_0_7604.jpeg\r\n"
     ]
    }
   ],
   "source": [
    "!rm -r preview\n",
    "!mkdir preview\n",
    "\n",
    "i = 0\n",
    "for batch in datagen.flow(X[:1], batch_size=1,\n",
    "                          save_to_dir='preview', save_prefix='test', save_format='jpeg'):\n",
    "    i += 1\n",
    "    if i > 5:\n",
    "        break  # otherwise the generator would loop indefinitely\n",
    "\n",
    "!ls preview/"
   ]
  },
  {
   "cell_type": "code",
   "execution_count": 12,
   "metadata": {
    "scrolled": false
   },
   "outputs": [
    {
     "data": {
      "image/jpeg": "[encoded data removed]",
      "text/plain": [
       "<IPython.core.display.Image object>"
      ]
     },
     "metadata": {},
     "output_type": "display_data"
    },
    {
     "data": {
      "image/jpeg": "[encoded data removed]",
      "text/plain": [
       "<IPython.core.display.Image object>"
      ]
     },
     "metadata": {},
     "output_type": "display_data"
    },
    {
     "data": {
      "image/jpeg": "[encoded data removed]",
      "text/plain": [
       "<IPython.core.display.Image object>"
      ]
     },
     "metadata": {},
     "output_type": "display_data"
    },
    {
     "data": {
      "image/jpeg": "[encoded data removed]",
      "text/plain": [
       "<IPython.core.display.Image object>"
      ]
     },
     "metadata": {},
     "output_type": "display_data"
    },
    {
     "data": {
      "image/jpeg": "[encoded data removed]",
      "text/plain": [
       "<IPython.core.display.Image object>"
      ]
     },
     "metadata": {},
     "output_type": "display_data"
    },
    {
     "data": {
      "image/jpeg": "[encoded data removed]",
      "text/plain": [
       "<IPython.core.display.Image object>"
      ]
     },
     "metadata": {},
     "output_type": "display_data"
    }
   ],
   "source": [
    "from IPython.display import display\n",
    "from IPython.display import Image as _Imgdis\n",
    "from PIL import Image\n",
    "\n",
    "modified_images = glob.glob('preview/*jpeg')\n",
    "for img in modified_images:\n",
    "    display(_Imgdis(filename=img))"
   ]
  },
  {
   "cell_type": "markdown",
   "metadata": {},
   "source": [
    "### 3.5 Build the model"
   ]
  },
  {
   "cell_type": "code",
   "execution_count": null,
   "metadata": {
    "collapsed": true
   },
   "outputs": [],
   "source": [
    "# get model definition\n",
    "model = zvsn_model()"
   ]
  },
  {
   "cell_type": "markdown",
   "metadata": {},
   "source": [
    "### 3.6 Train the Model"
   ]
  },
  {
   "cell_type": "code",
   "execution_count": null,
   "metadata": {
    "collapsed": true
   },
   "outputs": [],
   "source": [
    "# train model\n",
    "model.fit_generator(datagen.flow(X_train, y_train, batch_size=128),\n",
    "                    steps_per_epoch=len(X_train) / 128, validation_data=(X_val,y_val), epochs=10,verbose=2)"
   ]
  },
  {
   "cell_type": "code",
   "execution_count": null,
   "metadata": {
    "collapsed": true
   },
   "outputs": [],
   "source": [
    "# save model\n",
    "model.save('zoomed_vs_normal.h5')"
   ]
  },
  {
   "cell_type": "markdown",
   "metadata": {},
   "source": [
    "### 3.7 Loading the model and applying it on test data"
   ]
  },
  {
   "cell_type": "code",
   "execution_count": 13,
   "metadata": {},
   "outputs": [
    {
     "name": "stdout",
     "output_type": "stream",
     "text": [
      "_________________________________________________________________\n",
      "Layer (type)                 Output Shape              Param #   \n",
      "=================================================================\n",
      "conv2d_2 (Conv2D)            (None, 148, 148, 32)      896       \n",
      "_________________________________________________________________\n",
      "activation_2 (Activation)    (None, 148, 148, 32)      0         \n",
      "_________________________________________________________________\n",
      "max_pooling2d_2 (MaxPooling2 (None, 74, 74, 32)        0         \n",
      "_________________________________________________________________\n",
      "conv2d_3 (Conv2D)            (None, 72, 72, 32)        9248      \n",
      "_________________________________________________________________\n",
      "activation_3 (Activation)    (None, 72, 72, 32)        0         \n",
      "_________________________________________________________________\n",
      "max_pooling2d_3 (MaxPooling2 (None, 36, 36, 32)        0         \n",
      "_________________________________________________________________\n",
      "conv2d_4 (Conv2D)            (None, 34, 34, 64)        18496     \n",
      "_________________________________________________________________\n",
      "activation_4 (Activation)    (None, 34, 34, 64)        0         \n",
      "_________________________________________________________________\n",
      "max_pooling2d_4 (MaxPooling2 (None, 17, 17, 64)        0         \n",
      "_________________________________________________________________\n",
      "flatten_1 (Flatten)          (None, 18496)             0         \n",
      "_________________________________________________________________\n",
      "dense_1 (Dense)              (None, 64)                1183808   \n",
      "_________________________________________________________________\n",
      "activation_5 (Activation)    (None, 64)                0         \n",
      "_________________________________________________________________\n",
      "dropout_1 (Dropout)          (None, 64)                0         \n",
      "_________________________________________________________________\n",
      "dense_2 (Dense)              (None, 1)                 65        \n",
      "_________________________________________________________________\n",
      "activation_6 (Activation)    (None, 1)                 0         \n",
      "=================================================================\n",
      "Total params: 1,212,513\n",
      "Trainable params: 1,212,513\n",
      "Non-trainable params: 0\n",
      "_________________________________________________________________\n"
     ]
    }
   ],
   "source": [
    "from keras.models import load_model\n",
    "model = load_model('zoomed_vs_normal.h5')\n",
    "model.summary()"
   ]
  },
  {
   "cell_type": "code",
   "execution_count": 14,
   "metadata": {
    "collapsed": true
   },
   "outputs": [],
   "source": [
    "# get predictions for test set\n",
    "y_test_pred = predict(model, datagen, X_test)"
   ]
  },
  {
   "cell_type": "markdown",
   "metadata": {},
   "source": [
    "### 3.8 Get model metrics"
   ]
  },
  {
   "cell_type": "code",
   "execution_count": 15,
   "metadata": {},
   "outputs": [
    {
     "name": "stdout",
     "output_type": "stream",
     "text": [
      "             precision    recall  f1-score   support\n",
      "\n",
      "          0       0.99      0.99      0.99       732\n",
      "          1       0.97      0.97      0.97       150\n",
      "\n",
      "avg / total       0.99      0.99      0.99       882\n",
      "\n"
     ]
    }
   ],
   "source": [
    "# get classification metrics \n",
    "print_metrics(y_test, y_test_pred)"
   ]
  },
  {
   "cell_type": "code",
   "execution_count": 16,
   "metadata": {},
   "outputs": [
    {
     "data": {
      "text/plain": [
       "(array([[[ 27.0417099,  27.0417099,  27.0417099]]], dtype=float32),\n",
       " array([[[ 83.20262909,  83.20262909,  83.20262909]]], dtype=float32))"
      ]
     },
     "execution_count": 16,
     "metadata": {},
     "output_type": "execute_result"
    }
   ],
   "source": [
    "datagen.mean, datagen.std"
   ]
  },
  {
   "cell_type": "markdown",
   "metadata": {},
   "source": [
    "## 4. Predict on other dataset\n",
    "### 4.1 Load model and get predictions"
   ]
  },
  {
   "cell_type": "code",
   "execution_count": 13,
   "metadata": {
    "collapsed": true
   },
   "outputs": [],
   "source": [
    "# load model\n",
    "from keras.models import load_model\n",
    "model = load_model('zoomed_vs_normal.h5')"
   ]
  },
  {
   "cell_type": "code",
   "execution_count": 14,
   "metadata": {
    "collapsed": true
   },
   "outputs": [],
   "source": [
    "import numpy as np\n",
    "def preprocess(X):\n",
    "    mean = np.array([27.04171, 27.04171, 27.04171]).reshape(1,1,3)\n",
    "    std = np.array([83.20263, 83.20263, 83.20263]).reshape(1,1,3)\n",
    "    X -= mean\n",
    "    X /= (std + K.epsilon())\n",
    "    return X    "
   ]
  },
  {
   "cell_type": "code",
   "execution_count": 15,
   "metadata": {},
   "outputs": [
    {
     "name": "stdout",
     "output_type": "stream",
     "text": [
      "Found 12 images belonging to 1 classes.\n"
     ]
    }
   ],
   "source": [
    "# preprocess images from other dataset\n",
    "from keras.preprocessing.image import ImageDataGenerator\n",
    "test_datagen = ImageDataGenerator(preprocessing_function=preprocess)\n",
    "sample_images = test_datagen.flow_from_directory(\"../../dataset/zvsn_test/\",\n",
    "                                              target_size=(150,150),\n",
    "                                              class_mode=None,\n",
    "                                              shuffle=False)"
   ]
  },
  {
   "cell_type": "code",
   "execution_count": 16,
   "metadata": {},
   "outputs": [
    {
     "name": "stdout",
     "output_type": "stream",
     "text": [
      "CPU times: user 1.06 s, sys: 593 ms, total: 1.65 s\n",
      "Wall time: 1.31 s\n"
     ]
    }
   ],
   "source": [
    "%%time\n",
    "# get predictions\n",
    "predictions = model.predict_generator(sample_images)"
   ]
  },
  {
   "cell_type": "markdown",
   "metadata": {},
   "source": [
    "### 4.2 Transform predictions into a dataframe"
   ]
  },
  {
   "cell_type": "code",
   "execution_count": 18,
   "metadata": {},
   "outputs": [
    {
     "data": {
      "text/html": [
       "<div>\n",
       "<style scoped>\n",
       "    .dataframe tbody tr th:only-of-type {\n",
       "        vertical-align: middle;\n",
       "    }\n",
       "\n",
       "    .dataframe tbody tr th {\n",
       "        vertical-align: top;\n",
       "    }\n",
       "\n",
       "    .dataframe thead th {\n",
       "        text-align: right;\n",
       "    }\n",
       "</style>\n",
       "<table border=\"1\" class=\"dataframe\">\n",
       "  <thead>\n",
       "    <tr style=\"text-align: right;\">\n",
       "      <th></th>\n",
       "      <th>filenames</th>\n",
       "      <th>predictions</th>\n",
       "      <th>label</th>\n",
       "    </tr>\n",
       "  </thead>\n",
       "  <tbody>\n",
       "    <tr>\n",
       "      <th>0</th>\n",
       "      <td>test/00a0af2c5db4f4e48f91450c867bb56154aaf871.jpg</td>\n",
       "      <td>9.423085e-01</td>\n",
       "      <td>1</td>\n",
       "    </tr>\n",
       "    <tr>\n",
       "      <th>1</th>\n",
       "      <td>test/00b2cbb855a9effaa2ac21bd5330593353b24c29.jpg</td>\n",
       "      <td>9.710905e-01</td>\n",
       "      <td>1</td>\n",
       "    </tr>\n",
       "    <tr>\n",
       "      <th>2</th>\n",
       "      <td>test/0a0f2d306960acb75272d1fb8e89a6167eb2bf38.jpg</td>\n",
       "      <td>7.599932e-11</td>\n",
       "      <td>0</td>\n",
       "    </tr>\n",
       "    <tr>\n",
       "      <th>3</th>\n",
       "      <td>test/0a205b61d6172b91baec939c7a904538733ffe5d.jpg</td>\n",
       "      <td>9.776813e-01</td>\n",
       "      <td>1</td>\n",
       "    </tr>\n",
       "    <tr>\n",
       "      <th>4</th>\n",
       "      <td>test/0a3c44db7e041dbb6ebc9a78525a1afe81f281a4.jpg</td>\n",
       "      <td>2.457989e-11</td>\n",
       "      <td>0</td>\n",
       "    </tr>\n",
       "  </tbody>\n",
       "</table>\n",
       "</div>"
      ],
      "text/plain": [
       "                                           filenames   predictions  label\n",
       "0  test/00a0af2c5db4f4e48f91450c867bb56154aaf871.jpg  9.423085e-01  1    \n",
       "1  test/00b2cbb855a9effaa2ac21bd5330593353b24c29.jpg  9.710905e-01  1    \n",
       "2  test/0a0f2d306960acb75272d1fb8e89a6167eb2bf38.jpg  7.599932e-11  0    \n",
       "3  test/0a205b61d6172b91baec939c7a904538733ffe5d.jpg  9.776813e-01  1    \n",
       "4  test/0a3c44db7e041dbb6ebc9a78525a1afe81f281a4.jpg  2.457989e-11  0    "
      ]
     },
     "execution_count": 18,
     "metadata": {},
     "output_type": "execute_result"
    }
   ],
   "source": [
    "import pandas as pd\n",
    "pred_df = pd.DataFrame({'filenames':sample_images.filenames,'predictions':predictions.ravel()})\n",
    "pred_df['label'] = (pred_df.predictions > 0.5).astype(int)\n",
    "pd.options.display.max_colwidth=-1\n",
    "pred_df.head()"
   ]
  },
  {
   "cell_type": "markdown",
   "metadata": {},
   "source": [
    "### 4.3 View images that are predicted by the model"
   ]
  },
  {
   "cell_type": "code",
   "execution_count": 20,
   "metadata": {},
   "outputs": [
    {
     "data": {
      "image/jpeg": "[encoded data removed]",
      "text/plain": [
       "<IPython.core.display.Image object>"
      ]
     },
     "metadata": {},
     "output_type": "display_data"
    },
    {
     "data": {
      "image/jpeg": "[encoded data removed]",
      "text/plain": [
       "<IPython.core.display.Image object>"
      ]
     },
     "metadata": {},
     "output_type": "display_data"
    },
    {
     "data": {
      "image/jpeg": "[encoded data removed]",
      "text/plain": [
       "<IPython.core.display.Image object>"
      ]
     },
     "metadata": {},
     "output_type": "display_data"
    },
    {
     "data": {
      "image/jpeg": "[encoded data removed]",
      "text/plain": [
       "<IPython.core.display.Image object>"
      ]
     },
     "metadata": {},
     "output_type": "display_data"
    },
    {
     "data": {
      "image/jpeg": "[encoded data removed]",
      "text/plain": [
       "<IPython.core.display.Image object>"
      ]
     },
     "metadata": {},
     "output_type": "display_data"
    }
   ],
   "source": [
    "# view images that are predicted as zoomed by the model\n",
    "from IPython.display import display\n",
    "from IPython.display import Image as _Imgdis\n",
    "from PIL import Image\n",
    "\n",
    "for img in pred_df[pred_df.label==1].sample(frac=1.0).head().iterrows():\n",
    "    display(_Imgdis(filename='../../dataset/zvsn_test/'+img[1].filenames))"
   ]
  },
  {
   "cell_type": "code",
   "execution_count": 21,
   "metadata": {},
   "outputs": [
    {
     "data": {
      "image/jpeg": "[encoded data removed]",
      "text/plain": [
       "<IPython.core.display.Image object>"
      ]
     },
     "metadata": {},
     "output_type": "display_data"
    },
    {
     "data": {
      "image/jpeg": "[encoded data removed]",
      "text/plain": [
       "<IPython.core.display.Image object>"
      ]
     },
     "metadata": {},
     "output_type": "display_data"
    },
    {
     "data": {
      "image/jpeg": "[encoded data removed]",
      "text/plain": [
       "<IPython.core.display.Image object>"
      ]
     },
     "metadata": {},
     "output_type": "display_data"
    },
    {
     "data": {
      "image/jpeg": "[encoded data removed]",
      "text/plain": [
       "<IPython.core.display.Image object>"
      ]
     },
     "metadata": {},
     "output_type": "display_data"
    },
    {
     "data": {
      "image/jpeg": "[encoded data removed]",
      "text/plain": [
       "<IPython.core.display.Image object>"
      ]
     },
     "metadata": {},
     "output_type": "display_data"
    }
   ],
   "source": [
    "# view images that are predicted as normal by the model\n",
    "for img in pred_df[pred_df.label==0].sample(frac=1.0).head().iterrows():\n",
    "    display(_Imgdis(filename='../../dataset/zvsn_test/'+img[1].filenames))"
   ]
  },
  {
   "cell_type": "markdown",
   "metadata": {
    "collapsed": true
   },
   "source": [
    "### 4.4 Save images in corresponding folders based on their predictions"
   ]
  },
  {
   "cell_type": "code",
   "execution_count": 23,
   "metadata": {
    "collapsed": true
   },
   "outputs": [],
   "source": [
    "# create zoomed and normal folders where the predicted images will be placed\n",
    "import os \n",
    "zoomed_path = '../../dataset/zvsn_test_predicted/zoomed/'\n",
    "normal_path = '../../dataset/zvsn_test_predicted/normal/'\n",
    "\n",
    "if not os.path.exists(zoomed_path):\n",
    "    os.makedirs(zoomed_path)\n",
    "if not os.path.exists(normal_path):\n",
    "    os.makedirs(normal_path)"
   ]
  },
  {
   "cell_type": "code",
   "execution_count": 34,
   "metadata": {
    "collapsed": true
   },
   "outputs": [],
   "source": [
    "# move normal images to normal_path\n",
    "import shutil\n",
    "for img in pred_df[pred_df.label==0].sample(frac=1.0).iterrows():\n",
    "    file_name = img[1].filenames.split('/')[-1]\n",
    "    source_location = '../../dataset/zvsn_test/'+ img[1].filenames\n",
    "    target_location = normal_path + file_name\n",
    "    shutil.copy(source_location, target_location)"
   ]
  },
  {
   "cell_type": "code",
   "execution_count": 35,
   "metadata": {
    "collapsed": true
   },
   "outputs": [],
   "source": [
    "# move zoomed images to zoomed_path\n",
    "for img in pred_df[pred_df.label==1].sample(frac=1.0).iterrows():\n",
    "    file_name = img[1].filenames.split('/')[-1]\n",
    "    source_location = '../../dataset/zvsn_test/'+ img[1].filenames\n",
    "    target_location = zoomed_path + file_name\n",
    "    shutil.copy(source_location, target_location)"
   ]
  },
  {
   "cell_type": "markdown",
   "metadata": {},
   "source": [
    "## References:\n",
    "\n",
    "https://blog.keras.io/building-powerful-image-classification-models-using-very-little-data.html"
   ]
  }
 ],
 "metadata": {
  "kernelspec": {
   "display_name": "Atlas",
   "language": "python",
   "name": "atlas"
  },
  "language_info": {
   "codemirror_mode": {
    "name": "ipython",
    "version": 3
   },
   "file_extension": ".py",
   "mimetype": "text/x-python",
   "name": "python",
   "nbconvert_exporter": "python",
   "pygments_lexer": "ipython3",
   "version": "3.6.6"
  }
 },
 "nbformat": 4,
 "nbformat_minor": 2
}
